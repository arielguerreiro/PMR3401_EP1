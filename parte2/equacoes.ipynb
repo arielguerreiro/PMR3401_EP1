{
 "cells": [
  {
   "cell_type": "code",
   "execution_count": 2,
   "metadata": {},
   "outputs": [],
   "source": [
    "import sympy as sy\n",
    "import numpy as np"
   ]
  },
  {
   "cell_type": "code",
   "execution_count": 62,
   "metadata": {},
   "outputs": [],
   "source": [
    "V, Vpe, Vme, Vep, Vem = sy.symbols(\"V_{i\\,j} V_{i+1\\,j} V_{i-1\\,j} V_{i\\,j+1} V_{i\\,j-1}\")\n",
    "\n",
    "sigma_a, sigma_b, sigma = sy.symbols(\"\\sigma_a \\sigma_b \\sigma\")\n",
    "dr = sy.Symbol(\"\\Delta r\")\n",
    "dtheta = sy.symbols(\"\\Delta\\\\theta\")\n",
    "r, theta = sy.symbols(\"r_{ij}, \\\\theta{ij}\")"
   ]
  },
  {
   "cell_type": "code",
   "execution_count": 63,
   "metadata": {},
   "outputs": [
    {
     "data": {
      "text/latex": [
       "$\\displaystyle V_{i,j-1}$"
      ],
      "text/plain": [
       "V_{i,j-1}"
      ]
     },
     "execution_count": 63,
     "metadata": {},
     "output_type": "execute_result"
    }
   ],
   "source": [
    "Vem"
   ]
  },
  {
   "cell_type": "markdown",
   "metadata": {},
   "source": [
    "## Interior de A e B"
   ]
  },
  {
   "cell_type": "code",
   "execution_count": 64,
   "metadata": {},
   "outputs": [
    {
     "data": {
      "text/latex": [
       "$\\displaystyle \\frac{\\sigma_a \\left(V_{i,j+1} + V_{i,j-1} - 2 V_{i,j}\\right)}{\\Delta\\theta^{2} r_{ij}^{2}} + \\frac{\\sigma_a \\left(V_{i+1,j} - V_{i-1,j}\\right)}{2 \\Delta r r_{ij}} + \\frac{\\sigma_a \\left(V_{i+1,j} - 2 V_{i,j} + V_{i-1,j}\\right)}{\\Delta r^{2}}$"
      ],
      "text/plain": [
       "\\sigma_a*(V_{i,j+1} + V_{i,j-1} - 2*V_{i,j})/(\\Delta\\theta**2*r_{ij}**2) + \\sigma_a*(V_{i+1,j} - V_{i-1,j})/(2*\\Delta r*r_{ij}) + \\sigma_a*(V_{i+1,j} - 2*V_{i,j} + V_{i-1,j})/\\Delta r**2"
      ]
     },
     "execution_count": 64,
     "metadata": {},
     "output_type": "execute_result"
    }
   ],
   "source": [
    "eq1 = sigma_a*(Vpe -2*V + Vme)/(dr**2) + (sigma_a/r)*(Vpe - Vme)/(2*dr) + (sigma_a/r**2)*(Vep -2*V + Vem)/(dtheta**2)\n",
    "\n",
    "eq1"
   ]
  },
  {
   "cell_type": "code",
   "execution_count": 65,
   "metadata": {},
   "outputs": [
    {
     "data": {
      "text/latex": [
       "$\\displaystyle \\frac{V_{i+1,j} \\Delta r \\Delta\\theta^{2} r_{ij} + 2 V_{i+1,j} \\Delta\\theta^{2} r_{ij}^{2} + 2 V_{i,j+1} \\Delta r^{2} + 2 V_{i,j-1} \\Delta r^{2} - V_{i-1,j} \\Delta r \\Delta\\theta^{2} r_{ij} + 2 V_{i-1,j} \\Delta\\theta^{2} r_{ij}^{2}}{4 \\left(\\Delta r^{2} + \\Delta\\theta^{2} r_{ij}^{2}\\right)}$"
      ],
      "text/plain": [
       "(V_{i+1,j}*\\Delta r*\\Delta\\theta**2*r_{ij} + 2*V_{i+1,j}*\\Delta\\theta**2*r_{ij}**2 + 2*V_{i,j+1}*\\Delta r**2 + 2*V_{i,j-1}*\\Delta r**2 - V_{i-1,j}*\\Delta r*\\Delta\\theta**2*r_{ij} + 2*V_{i-1,j}*\\Delta\\theta**2*r_{ij}**2)/(4*(\\Delta r**2 + \\Delta\\theta**2*r_{ij}**2))"
      ]
     },
     "execution_count": 65,
     "metadata": {},
     "output_type": "execute_result"
    }
   ],
   "source": [
    "sol1 = sy.solve(eq1, V)[0]\n",
    "\n",
    "sy.simplify(sol1)"
   ]
  },
  {
   "cell_type": "markdown",
   "metadata": {},
   "source": [
    "## Borda superior de A"
   ]
  },
  {
   "cell_type": "code",
   "execution_count": 67,
   "metadata": {},
   "outputs": [
    {
     "data": {
      "text/latex": [
       "$\\displaystyle \\frac{\\sigma_a \\left(2 V_{i,j-1} - 2 V_{i,j}\\right)}{\\Delta\\theta^{2} r_{ij}^{2}} + \\frac{\\sigma_a \\left(V_{i+1,j} - V_{i-1,j}\\right)}{2 \\Delta r r_{ij}} + \\frac{\\sigma_a \\left(V_{i+1,j} - 2 V_{i,j} + V_{i-1,j}\\right)}{\\Delta r^{2}}$"
      ],
      "text/plain": [
       "\\sigma_a*(2*V_{i,j-1} - 2*V_{i,j})/(\\Delta\\theta**2*r_{ij}**2) + \\sigma_a*(V_{i+1,j} - V_{i-1,j})/(2*\\Delta r*r_{ij}) + \\sigma_a*(V_{i+1,j} - 2*V_{i,j} + V_{i-1,j})/\\Delta r**2"
      ]
     },
     "execution_count": 67,
     "metadata": {},
     "output_type": "execute_result"
    }
   ],
   "source": [
    "eq2 = sigma_a*(Vpe -2*V + Vme)/(dr**2) + (sigma_a/r)*(Vpe - Vme)/(2*dr) + (sigma_a/r**2)*(2*(Vem - V)/dtheta**2)\n",
    "\n",
    "eq2"
   ]
  },
  {
   "cell_type": "code",
   "execution_count": 70,
   "metadata": {},
   "outputs": [
    {
     "data": {
      "text/latex": [
       "$\\displaystyle \\frac{V_{i+1,j} \\Delta r \\Delta\\theta^{2} r_{ij} + 2 V_{i+1,j} \\Delta\\theta^{2} r_{ij}^{2} + 4 V_{i,j-1} \\Delta r^{2} - V_{i-1,j} \\Delta r \\Delta\\theta^{2} r_{ij} + 2 V_{i-1,j} \\Delta\\theta^{2} r_{ij}^{2}}{4 \\Delta r^{2} + 4 \\Delta\\theta^{2} r_{ij}^{2}}$"
      ],
      "text/plain": [
       "(V_{i+1,j}*\\Delta r*\\Delta\\theta**2*r_{ij} + 2*V_{i+1,j}*\\Delta\\theta**2*r_{ij}**2 + 4*V_{i,j-1}*\\Delta r**2 - V_{i-1,j}*\\Delta r*\\Delta\\theta**2*r_{ij} + 2*V_{i-1,j}*\\Delta\\theta**2*r_{ij}**2)/(4*\\Delta r**2 + 4*\\Delta\\theta**2*r_{ij}**2)"
      ]
     },
     "execution_count": 70,
     "metadata": {},
     "output_type": "execute_result"
    }
   ],
   "source": [
    "sol2 = sy.solve(eq2, V)[0]\n",
    "\n",
    "sy.cancel(sol2)"
   ]
  },
  {
   "cell_type": "markdown",
   "metadata": {},
   "source": [
    "## Regiao de simetria de A e B"
   ]
  },
  {
   "cell_type": "code",
   "execution_count": 71,
   "metadata": {},
   "outputs": [
    {
     "data": {
      "text/latex": [
       "$\\displaystyle \\frac{\\sigma_a \\left(2 V_{i,j+1} - 2 V_{i,j}\\right)}{\\Delta\\theta^{2} r_{ij}^{2}} + \\frac{\\sigma_a \\left(V_{i+1,j} - V_{i-1,j}\\right)}{2 \\Delta r r_{ij}} + \\frac{\\sigma_a \\left(V_{i+1,j} - 2 V_{i,j} + V_{i-1,j}\\right)}{\\Delta r^{2}}$"
      ],
      "text/plain": [
       "\\sigma_a*(2*V_{i,j+1} - 2*V_{i,j})/(\\Delta\\theta**2*r_{ij}**2) + \\sigma_a*(V_{i+1,j} - V_{i-1,j})/(2*\\Delta r*r_{ij}) + \\sigma_a*(V_{i+1,j} - 2*V_{i,j} + V_{i-1,j})/\\Delta r**2"
      ]
     },
     "execution_count": 71,
     "metadata": {},
     "output_type": "execute_result"
    }
   ],
   "source": [
    "eq3 = sigma_a*(Vpe -2*V + Vme)/(dr**2) + (sigma_a/r)*(Vpe - Vme)/(2*dr) + (sigma_a/r**2)*(Vep -2*V + Vep)/(dtheta**2)\n",
    "\n",
    "eq3"
   ]
  },
  {
   "cell_type": "code",
   "execution_count": 72,
   "metadata": {},
   "outputs": [
    {
     "data": {
      "text/latex": [
       "$\\displaystyle \\frac{V_{i+1,j} \\Delta r \\Delta\\theta^{2} r_{ij} + 2 V_{i+1,j} \\Delta\\theta^{2} r_{ij}^{2} + 4 V_{i,j+1} \\Delta r^{2} - V_{i-1,j} \\Delta r \\Delta\\theta^{2} r_{ij} + 2 V_{i-1,j} \\Delta\\theta^{2} r_{ij}^{2}}{4 \\Delta r^{2} + 4 \\Delta\\theta^{2} r_{ij}^{2}}$"
      ],
      "text/plain": [
       "(V_{i+1,j}*\\Delta r*\\Delta\\theta**2*r_{ij} + 2*V_{i+1,j}*\\Delta\\theta**2*r_{ij}**2 + 4*V_{i,j+1}*\\Delta r**2 - V_{i-1,j}*\\Delta r*\\Delta\\theta**2*r_{ij} + 2*V_{i-1,j}*\\Delta\\theta**2*r_{ij}**2)/(4*\\Delta r**2 + 4*\\Delta\\theta**2*r_{ij}**2)"
      ]
     },
     "execution_count": 72,
     "metadata": {},
     "output_type": "execute_result"
    }
   ],
   "source": [
    "sol3 = sy.solve(eq3, V)[0]\n",
    "\n",
    "sy.cancel(sol3)"
   ]
  },
  {
   "cell_type": "markdown",
   "metadata": {},
   "source": [
    "## Borda esquerda de B"
   ]
  },
  {
   "cell_type": "code",
   "execution_count": 81,
   "metadata": {},
   "outputs": [
    {
     "data": {
      "text/latex": [
       "$\\displaystyle \\frac{\\partial V}{\\partial r}^B$"
      ],
      "text/plain": [
       "\\frac{\\partial V}{\\partial r}^B"
      ]
     },
     "execution_count": 81,
     "metadata": {},
     "output_type": "execute_result"
    }
   ],
   "source": [
    "dVdr_A = sy.Symbol(\"\\\\frac{\\partial V}{\\partial r}^A\") \n",
    "dVdr_B = sy.Symbol(\"\\\\frac{\\partial V}{\\partial r}^B\") \n",
    "\n",
    "dVdr_B"
   ]
  },
  {
   "cell_type": "code",
   "execution_count": 86,
   "metadata": {},
   "outputs": [
    {
     "data": {
      "text/latex": [
       "$\\displaystyle \\frac{\\frac{\\partial V}{\\partial r}^A \\sigma_a}{r_{ij}} + \\frac{\\sigma_a \\left(V_{i,j+1} + V_{i,j-1} - 2 V_{i,j}\\right)}{\\Delta\\theta^{2} r_{ij}^{2}} + \\frac{2 \\sigma_a \\left(- V_{i,j} + V_{i-1,j} + \\Delta r \\frac{\\partial V}{\\partial r}^A\\right)}{\\Delta r^{2}}$"
      ],
      "text/plain": [
       "\\frac{\\partial V}{\\partial r}^A*\\sigma_a/r_{ij} + \\sigma_a*(V_{i,j+1} + V_{i,j-1} - 2*V_{i,j})/(\\Delta\\theta**2*r_{ij}**2) + 2*\\sigma_a*(-V_{i,j} + V_{i-1,j} + \\Delta r*\\frac{\\partial V}{\\partial r}^A)/\\Delta r**2"
      ]
     },
     "execution_count": 86,
     "metadata": {},
     "output_type": "execute_result"
    }
   ],
   "source": [
    "#equacao no meio A\n",
    "dv2_A = (2/dr**2)*(Vme - V + dr*dVdr_A)\n",
    "\n",
    "#escrevendo a expressao completa\n",
    "eq_parcA = sigma_a*(dv2_A) + (sigma_a/r)*(dVdr_A) + (sigma_a/r**2)*(Vep -2*V + Vem)/(dtheta**2)\n",
    "\n",
    "eq_parcA"
   ]
  },
  {
   "cell_type": "code",
   "execution_count": 87,
   "metadata": {},
   "outputs": [
    {
     "data": {
      "text/latex": [
       "$\\displaystyle \\frac{- V_{i,j+1} \\Delta r^{2} - V_{i,j-1} \\Delta r^{2} + 2 V_{i,j} \\Delta r^{2} + 2 V_{i,j} \\Delta\\theta^{2} r_{ij}^{2} - 2 V_{i-1,j} \\Delta\\theta^{2} r_{ij}^{2}}{\\Delta r \\Delta\\theta^{2} r_{ij} \\left(\\Delta r + 2 r_{ij}\\right)}$"
      ],
      "text/plain": [
       "(-V_{i,j+1}*\\Delta r**2 - V_{i,j-1}*\\Delta r**2 + 2*V_{i,j}*\\Delta r**2 + 2*V_{i,j}*\\Delta\\theta**2*r_{ij}**2 - 2*V_{i-1,j}*\\Delta\\theta**2*r_{ij}**2)/(\\Delta r*\\Delta\\theta**2*r_{ij}*(\\Delta r + 2*r_{ij}))"
      ]
     },
     "execution_count": 87,
     "metadata": {},
     "output_type": "execute_result"
    }
   ],
   "source": [
    "sol_parcA = sy.solve(eq_parcA, dVdr_A)[0]\n",
    "\n",
    "sol_parcA"
   ]
  },
  {
   "cell_type": "code",
   "execution_count": 91,
   "metadata": {},
   "outputs": [
    {
     "data": {
      "text/latex": [
       "$\\displaystyle \\frac{\\frac{\\partial V}{\\partial r}^B \\sigma_b}{r_{ij}} + \\frac{\\sigma_b \\left(V_{i,j+1} + V_{i,j-1} - 2 V_{i,j}\\right)}{\\Delta\\theta^{2} r_{ij}^{2}} + \\frac{2 \\sigma_b \\left(- V_{i,j} + V_{i-1,j} - \\Delta r \\frac{\\partial V}{\\partial r}^B\\right)}{\\Delta r^{2}}$"
      ],
      "text/plain": [
       "\\frac{\\partial V}{\\partial r}^B*\\sigma_b/r_{ij} + \\sigma_b*(V_{i,j+1} + V_{i,j-1} - 2*V_{i,j})/(\\Delta\\theta**2*r_{ij}**2) + 2*\\sigma_b*(-V_{i,j} + V_{i-1,j} - \\Delta r*\\frac{\\partial V}{\\partial r}^B)/\\Delta r**2"
      ]
     },
     "execution_count": 91,
     "metadata": {},
     "output_type": "execute_result"
    }
   ],
   "source": [
    "#equacao no meio B\n",
    "dv2_B = (2/dr**2)*(Vme - V - dr*dVdr_B)\n",
    "\n",
    "#escrevendo a expressao completa\n",
    "eq_parcB = sigma_b*(dv2_B) + (sigma_b/r)*(dVdr_B) + (sigma_b/r**2)*(Vep -2*V + Vem)/(dtheta**2)\n",
    "\n",
    "eq_parcB"
   ]
  },
  {
   "cell_type": "code",
   "execution_count": 92,
   "metadata": {},
   "outputs": [
    {
     "data": {
      "text/latex": [
       "$\\displaystyle \\frac{- V_{i,j+1} \\Delta r^{2} - V_{i,j-1} \\Delta r^{2} + 2 V_{i,j} \\Delta r^{2} + 2 V_{i,j} \\Delta\\theta^{2} r_{ij}^{2} - 2 V_{i-1,j} \\Delta\\theta^{2} r_{ij}^{2}}{\\Delta r \\Delta\\theta^{2} r_{ij} \\left(\\Delta r - 2 r_{ij}\\right)}$"
      ],
      "text/plain": [
       "(-V_{i,j+1}*\\Delta r**2 - V_{i,j-1}*\\Delta r**2 + 2*V_{i,j}*\\Delta r**2 + 2*V_{i,j}*\\Delta\\theta**2*r_{ij}**2 - 2*V_{i-1,j}*\\Delta\\theta**2*r_{ij}**2)/(\\Delta r*\\Delta\\theta**2*r_{ij}*(\\Delta r - 2*r_{ij}))"
      ]
     },
     "execution_count": 92,
     "metadata": {},
     "output_type": "execute_result"
    }
   ],
   "source": [
    "sol_parcB = sy.solve(eq_parcB, dVdr_B)[0]\n",
    "\n",
    "sol_parcB"
   ]
  },
  {
   "cell_type": "code",
   "execution_count": 93,
   "metadata": {},
   "outputs": [
    {
     "data": {
      "text/latex": [
       "$\\displaystyle \\frac{\\sigma_a \\left(- V_{i,j+1} \\Delta r^{2} - V_{i,j-1} \\Delta r^{2} + 2 V_{i,j} \\Delta r^{2} + 2 V_{i,j} \\Delta\\theta^{2} r_{ij}^{2} - 2 V_{i-1,j} \\Delta\\theta^{2} r_{ij}^{2}\\right)}{\\Delta r \\Delta\\theta^{2} r_{ij} \\left(\\Delta r + 2 r_{ij}\\right)} - \\frac{\\sigma_b \\left(- V_{i,j+1} \\Delta r^{2} - V_{i,j-1} \\Delta r^{2} + 2 V_{i,j} \\Delta r^{2} + 2 V_{i,j} \\Delta\\theta^{2} r_{ij}^{2} - 2 V_{i-1,j} \\Delta\\theta^{2} r_{ij}^{2}\\right)}{\\Delta r \\Delta\\theta^{2} r_{ij} \\left(\\Delta r - 2 r_{ij}\\right)}$"
      ],
      "text/plain": [
       "\\sigma_a*(-V_{i,j+1}*\\Delta r**2 - V_{i,j-1}*\\Delta r**2 + 2*V_{i,j}*\\Delta r**2 + 2*V_{i,j}*\\Delta\\theta**2*r_{ij}**2 - 2*V_{i-1,j}*\\Delta\\theta**2*r_{ij}**2)/(\\Delta r*\\Delta\\theta**2*r_{ij}*(\\Delta r + 2*r_{ij})) - \\sigma_b*(-V_{i,j+1}*\\Delta r**2 - V_{i,j-1}*\\Delta r**2 + 2*V_{i,j}*\\Delta r**2 + 2*V_{i,j}*\\Delta\\theta**2*r_{ij}**2 - 2*V_{i-1,j}*\\Delta\\theta**2*r_{ij}**2)/(\\Delta r*\\Delta\\theta**2*r_{ij}*(\\Delta r - 2*r_{ij}))"
      ]
     },
     "execution_count": 93,
     "metadata": {},
     "output_type": "execute_result"
    }
   ],
   "source": [
    "#resolve condicao de continuidade\n",
    "cont = sigma_a*sol_parcA - sigma_b*sol_parcB\n",
    "\n",
    "cont"
   ]
  },
  {
   "cell_type": "code",
   "execution_count": 96,
   "metadata": {},
   "outputs": [
    {
     "data": {
      "text/latex": [
       "$\\displaystyle \\frac{V_{i,j+1} \\Delta r^{2} + V_{i,j-1} \\Delta r^{2} + 2 V_{i-1,j} \\Delta\\theta^{2} r_{ij}^{2}}{2 \\Delta r^{2} + 2 \\Delta\\theta^{2} r_{ij}^{2}}$"
      ],
      "text/plain": [
       "(V_{i,j+1}*\\Delta r**2 + V_{i,j-1}*\\Delta r**2 + 2*V_{i-1,j}*\\Delta\\theta**2*r_{ij}**2)/(2*\\Delta r**2 + 2*\\Delta\\theta**2*r_{ij}**2)"
      ]
     },
     "execution_count": 96,
     "metadata": {},
     "output_type": "execute_result"
    }
   ],
   "source": [
    "sol4 = sy.solve(cont, V)[0]\n",
    "\n",
    "sy.cancel(sol4)"
   ]
  },
  {
   "cell_type": "markdown",
   "metadata": {},
   "source": [
    "## Borda direita de B"
   ]
  },
  {
   "cell_type": "code",
   "execution_count": null,
   "metadata": {},
   "outputs": [],
   "source": []
  },
  {
   "cell_type": "code",
   "execution_count": null,
   "metadata": {},
   "outputs": [],
   "source": []
  },
  {
   "cell_type": "markdown",
   "metadata": {},
   "source": [
    "## Borda superior de B"
   ]
  },
  {
   "cell_type": "markdown",
   "metadata": {},
   "source": []
  }
 ],
 "metadata": {
  "interpreter": {
   "hash": "a2de87c71ed1b10f939d95b8973d910fd388b0da56e5c979280d584226ff62c6"
  },
  "kernelspec": {
   "display_name": "Python 3.8.0 ('sisdin')",
   "language": "python",
   "name": "python3"
  },
  "language_info": {
   "codemirror_mode": {
    "name": "ipython",
    "version": 3
   },
   "file_extension": ".py",
   "mimetype": "text/x-python",
   "name": "python",
   "nbconvert_exporter": "python",
   "pygments_lexer": "ipython3",
   "version": "3.8.0"
  },
  "orig_nbformat": 4
 },
 "nbformat": 4,
 "nbformat_minor": 2
}
