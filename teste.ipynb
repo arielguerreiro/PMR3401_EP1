{
 "cells": [
  {
   "cell_type": "markdown",
   "metadata": {},
   "source": [
    "# Runge Kutta de quarta ordem\n",
    "\n",
    "Aplicação com matriz"
   ]
  },
  {
   "cell_type": "code",
   "execution_count": 2,
   "metadata": {},
   "outputs": [],
   "source": [
    "import numpy as np"
   ]
  },
  {
   "cell_type": "markdown",
   "metadata": {},
   "source": [
    "O método de Runge-Kutta de quarta Ordem (RK4 clássico) pode ser dado por:\n",
    "\n",
    "$$ y_{i+1} = y_i + \\frac{h}{6} (k_1 + 2k_2 + 2k_3 + k_4)$$\n",
    "\n",
    "no qual \n",
    "\n",
    "$$ k_1 = f(x_i, y_i) $$\n",
    "\n",
    "$$ k_2 = f(x_i + \\frac{h}{2}, y_i + \\frac{h}{2}k_1) $$\n",
    "\n",
    "$$ k_3 = f(x_i + \\frac{h}{2}, y_i + \\frac{h}{2}k_2) $$\n",
    "\n",
    "$$ k_4 = f(x_i + h, y_i + hk_3) $$"
   ]
  },
  {
   "cell_type": "markdown",
   "metadata": {},
   "source": [
    "Doggy hits"
   ]
  },
  {
   "cell_type": "code",
   "execution_count": 3,
   "metadata": {},
   "outputs": [],
   "source": [
    "def f(x,y):\n",
    "    '''\n",
    "    inserir a função aqui\n",
    "    ''' \n",
    "    return 4*np.exp(0.8*x) - 0.5*y"
   ]
  },
  {
   "cell_type": "code",
   "execution_count": 6,
   "metadata": {},
   "outputs": [],
   "source": [
    "A = np.array([0, 0])\n",
    "B = np.array([0, 2])\n"
   ]
  },
  {
   "cell_type": "code",
   "execution_count": 10,
   "metadata": {},
   "outputs": [],
   "source": [
    "def compute_step(x_i, y_i, h, f):\n",
    "    k1 = f(x_i,y_i)\n",
    "\n",
    "    k2 = f(x_i + h/2, y_i + (h/2)*k1)\n",
    "\n",
    "    k3 = f(x_i + h/2, y_i + (h/2)*k2)\n",
    "\n",
    "    k4 = f(x_i + h, y_i + h*k3)\n",
    "\n",
    "    return y_i + (h/6)*(k1 + 2*k2 + 2*k3 + k4)"
   ]
  },
  {
   "cell_type": "code",
   "execution_count": 12,
   "metadata": {},
   "outputs": [
    {
     "data": {
      "text/plain": [
       "3.75169949996479"
      ]
     },
     "execution_count": 12,
     "metadata": {},
     "output_type": "execute_result"
    }
   ],
   "source": [
    "h = 0.5 \n",
    "x_i = 0\n",
    "y_i = 2\n",
    "\n",
    "compute_step(x_i, y_i, h, f)"
   ]
  },
  {
   "cell_type": "code",
   "execution_count": 15,
   "metadata": {},
   "outputs": [],
   "source": [
    "def Runge_Kutta_4(x0, y0, xn, h, f):\n",
    "    x_i = x0\n",
    "    y_i = y0\n",
    "\n",
    "    while x_i < xn:\n",
    "        y_i = compute_step(x_i, y_i, h, f)\n",
    "        x_i = x_i + h\n",
    "\n",
    "        print(f'valor de X_i: {x_i}')\n",
    "        print(f'valor de Y_i: {y_i}')\n",
    "\n",
    "        "
   ]
  },
  {
   "cell_type": "code",
   "execution_count": 16,
   "metadata": {},
   "outputs": [
    {
     "name": "stdout",
     "output_type": "stream",
     "text": [
      "valor de X_i: 0.5\n",
      "valor de Y_i: 3.75169949996479\n",
      "valor de X_i: 1.0\n",
      "valor de Y_i: 6.195041994133001\n"
     ]
    }
   ],
   "source": [
    "Runge_Kutta_4(0, 2, 1, 0.5, f)"
   ]
  },
  {
   "cell_type": "code",
   "execution_count": null,
   "metadata": {},
   "outputs": [],
   "source": []
  }
 ],
 "metadata": {
  "interpreter": {
   "hash": "916dbcbb3f70747c44a77c7bcd40155683ae19c65e1c03b4aa3499c5328201f1"
  },
  "kernelspec": {
   "display_name": "Python 3.8.10 64-bit",
   "language": "python",
   "name": "python3"
  },
  "language_info": {
   "codemirror_mode": {
    "name": "ipython",
    "version": 3
   },
   "file_extension": ".py",
   "mimetype": "text/x-python",
   "name": "python",
   "nbconvert_exporter": "python",
   "pygments_lexer": "ipython3",
   "version": "3.8.10"
  },
  "orig_nbformat": 4
 },
 "nbformat": 4,
 "nbformat_minor": 2
}
